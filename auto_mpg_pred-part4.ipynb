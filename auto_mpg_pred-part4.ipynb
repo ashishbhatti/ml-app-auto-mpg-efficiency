{
 "cells": [
  {
   "cell_type": "markdown",
   "id": "a2e8bc75",
   "metadata": {},
   "source": [
    "# Predicting Fuel Efficiency of Vehicles - Part 4\n",
    "\n",
    "\n",
    "To deploy a trained model basically two things are required:\n",
    "- Web Service: Through which we will handle http response.\n",
    "- Cloud Platform as a Service: Where application can be deployed\n",
    "\n",
    "## Deploying the Trained Model\n",
    "\n",
    "1. Start a Flask Project\n",
    "2. Set up a dedicated environement with dependencies installed using pip.\n",
    "    Packages to install \\\n",
    "    i. Pandas\n",
    "    ii. numpy\n",
    "    iii. sklearn\n",
    "    iv. flask\n",
    "    v. matplotlib\n",
    "    vi. gunicorn\n",
    "    vii. seaborn \n",
    "    \n",
    "3. Create a quick flask application to test a simple endpoint\n",
    "4. Define a function that accepts data from the POST request and return the predictions using a helper module.\n",
    "5. Test the endpoint using requests package"
   ]
  },
  {
   "cell_type": "code",
   "execution_count": null,
   "id": "cb6a9f2b",
   "metadata": {},
   "outputs": [],
   "source": []
  }
 ],
 "metadata": {
  "kernelspec": {
   "display_name": "Python 3 (ipykernel)",
   "language": "python",
   "name": "python3"
  },
  "language_info": {
   "codemirror_mode": {
    "name": "ipython",
    "version": 3
   },
   "file_extension": ".py",
   "mimetype": "text/x-python",
   "name": "python",
   "nbconvert_exporter": "python",
   "pygments_lexer": "ipython3",
   "version": "3.11.2"
  }
 },
 "nbformat": 4,
 "nbformat_minor": 5
}
